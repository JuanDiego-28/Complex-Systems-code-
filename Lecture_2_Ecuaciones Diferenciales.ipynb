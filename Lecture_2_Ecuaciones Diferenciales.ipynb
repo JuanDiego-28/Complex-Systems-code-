{
 "cells": [
  {
   "cell_type": "markdown",
   "id": "075ed1c4",
   "metadata": {},
   "source": [
    "## CODES FOR SOLVING DIFFERENT ODE'S: "
   ]
  },
  {
   "cell_type": "code",
   "execution_count": 1,
   "id": "53e3c445",
   "metadata": {},
   "outputs": [],
   "source": [
    "import sympy as sp\n",
    "import numpy as np \n",
    "import matplotlib.pyplot as plt"
   ]
  },
  {
   "cell_type": "code",
   "execution_count": 2,
   "id": "5e8953d8",
   "metadata": {},
   "outputs": [
    {
     "name": "stdout",
     "output_type": "stream",
     "text": [
      "⎡           _________            _________⎤\n",
      "⎢          ╱       2            ╱       2 ⎥\n",
      "⎣x(t) = -╲╱  C₁ - t  , x(t) = ╲╱  C₁ - t  ⎦\n"
     ]
    }
   ],
   "source": [
    "#Code for simple separable ODE:\n",
    "\n",
    "#EXAMPLE 1: \n",
    "#Defining the variables \n",
    "t = sp.symbols('t')\n",
    "x =  sp.symbols('x',cls = sp.Function)     #cls = sp.Functions tells python x is the function\n",
    "\n",
    "#Solving the equation: \n",
    "\n",
    "Answ = sp.dsolve(sp.Eq(x(t).diff(t), -t/x(t)), x(t))\n",
    "\n",
    "sp.pprint(Answ)   #pprint() retunrs the equation in more ordered way"
   ]
  },
  {
   "cell_type": "code",
   "execution_count": 6,
   "id": "b5f0a7b8",
   "metadata": {},
   "outputs": [
    {
     "name": "stdout",
     "output_type": "stream",
     "text": [
      "d                           \n",
      "──(P(t)) = (a - b⋅P(t))⋅P(t)\n",
      "dt                          \n",
      "             a⋅(C₁ + t)   \n",
      "          a⋅ℯ             \n",
      "P(t) = ───────────────────\n",
      "         ⎛ a⋅(C₁ + t)    ⎞\n",
      "       b⋅⎝ℯ           - 1⎠\n"
     ]
    }
   ],
   "source": [
    "#EXAMPLE 3: \n",
    "\n",
    "t = sp.symbols(\"t\")\n",
    "a = sp.symbols(\"a\")\n",
    "b = sp.symbols('b')\n",
    "P = sp.symbols('P', cls = sp.Function)\n",
    "\n",
    "#Defining the equation\n",
    "equ = sp.Eq(P(t).diff(t), P(t)*(a - b * P(t)))\n",
    "#showing the equation; \n",
    "sp.pprint(equ)\n",
    "\n",
    "#solving the equation: \n",
    "Answ = sp.dsolve(equ,P(t))\n",
    "sp.pprint(Answ)"
   ]
  },
  {
   "cell_type": "code",
   "execution_count": 15,
   "id": "b8766d3d",
   "metadata": {},
   "outputs": [
    {
     "name": "stdout",
     "output_type": "stream",
     "text": [
      "            2      4    6        \n",
      "           t    3⋅t    t     ⎛ 8⎞\n",
      "x(t) = 1 - ── + ──── - ── + O⎝t ⎠\n",
      "           2     8     16        \n"
     ]
    }
   ],
   "source": [
    "#Code for solving power series: \n",
    "from sympy.abc import t\n",
    "\n",
    "#Defining the functions: \n",
    "x = sp.Function('x')\n",
    "ODE1 = x(t).diff(t) + t*x(t) - t**3 \n",
    "    \n",
    "sp.pprint(sp.dsolve(ODE1, hint = '1st_power_series',n=8, ics={x(0):1}))"
   ]
  },
  {
   "cell_type": "code",
   "execution_count": 19,
   "id": "557a194b",
   "metadata": {},
   "outputs": [
    {
     "name": "stdout",
     "output_type": "stream",
     "text": [
      "           -3⋅t       -2⋅t                  \n",
      "i(t) = C₁⋅ℯ     + C₂⋅ℯ     + sin(t) - cos(t)\n"
     ]
    }
   ],
   "source": [
    "#Code for solving a second order equation: \n",
    "t = sp.symbols('t')\n",
    "i = sp.symbols('i', cls=sp.Function)\n",
    "\n",
    "answ = sp.dsolve(sp.Eq(i(t).diff(t,t) + 5*i(t).diff(t) + 6*i(t),10*sp.sin(t)),i(t))\n",
    "\n",
    "sp.pprint(answ)"
   ]
  },
  {
   "cell_type": "markdown",
   "id": "361d8017",
   "metadata": {},
   "source": [
    "### SOLVING EXERCISES: "
   ]
  },
  {
   "cell_type": "code",
   "execution_count": 33,
   "id": "97d82c51",
   "metadata": {},
   "outputs": [
    {
     "name": "stdout",
     "output_type": "stream",
     "text": [
      "d          -y(x) \n",
      "──(y(x)) = ──────\n",
      "dx           x   \n",
      "       C₁\n",
      "y(x) = ──\n",
      "       x \n"
     ]
    }
   ],
   "source": [
    "#Sketching some ODE'S: \n",
    "\n",
    "y = sp.symbols('y',cls = sp.Function)\n",
    "x = sp.symbols('x')#,cls = sp.Function)\n",
    "\n",
    "#defining the equation: \n",
    "eq = sp.Eq(y(x).diff(x),-1*(y(x)/x))\n",
    "sp.pprint(eq)\n",
    "\n",
    "#SOlving the equation; \n",
    "ans = sp.dsolve(eq,y(x))\n",
    "sp.pprint(ans)"
   ]
  },
  {
   "cell_type": "code",
   "execution_count": null,
   "id": "132387ec",
   "metadata": {},
   "outputs": [],
   "source": []
  }
 ],
 "metadata": {
  "kernelspec": {
   "display_name": "Python 3 (ipykernel)",
   "language": "python",
   "name": "python3"
  },
  "language_info": {
   "codemirror_mode": {
    "name": "ipython",
    "version": 3
   },
   "file_extension": ".py",
   "mimetype": "text/x-python",
   "name": "python",
   "nbconvert_exporter": "python",
   "pygments_lexer": "ipython3",
   "version": "3.10.9"
  }
 },
 "nbformat": 4,
 "nbformat_minor": 5
}
